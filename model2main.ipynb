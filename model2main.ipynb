{
 "cells": [
  {
   "cell_type": "code",
   "execution_count": 121,
   "metadata": {},
   "outputs": [],
   "source": [
    "import cifar10,cifar10_input  \n",
    "import tensorflow as tf  \n",
    "import numpy as np  \n",
    "import time  "
   ]
  },
  {
   "cell_type": "code",
   "execution_count": 122,
   "metadata": {
    "collapsed": true
   },
   "outputs": [],
   "source": [
    "max_steps = 3000  \n",
    "batch_size = 128  \n",
    "data_dir = '/tmp/cifar10_data/cifar-10-batches-bin' "
   ]
  },
  {
   "cell_type": "code",
   "execution_count": 123,
   "metadata": {
    "collapsed": true
   },
   "outputs": [],
   "source": [
    "def variable_with_weight_loss(shape, stddev, wl):  \n",
    "    var = tf.Variable(tf.truncated_normal(shape, stddev=stddev))  \n",
    "    if wl is not None:  \n",
    "        weight_loss = tf.multiply(tf.nn.l2_loss(var), wl, name='weight_loss')  \n",
    "        tf.add_to_collection('losses', weight_loss)  \n",
    "    return var  "
   ]
  },
  {
   "cell_type": "code",
   "execution_count": 124,
   "metadata": {
    "collapsed": true
   },
   "outputs": [],
   "source": [
    "def loss(logits, labels):  \n",
    "    labels = tf.cast(labels, tf.int64)  \n",
    "    cross_entropy = tf.nn.sparse_softmax_cross_entropy_with_logits(  \n",
    "        logits=logits, labels=labels, name='cross_entropy_per_example')  \n",
    "    cross_entropy_mean = tf.reduce_mean(cross_entropy, name='cross_entropy')  \n",
    "    tf.add_to_collection('losses', cross_entropy_mean)  \n",
    "    return tf.add_n(tf.get_collection('losses'), name='total_loss')"
   ]
  },
  {
   "cell_type": "code",
   "execution_count": 125,
   "metadata": {},
   "outputs": [],
   "source": [
    "cifar10.maybe_download_and_extract() "
   ]
  },
  {
   "cell_type": "code",
   "execution_count": 126,
   "metadata": {},
   "outputs": [
    {
     "name": "stdout",
     "output_type": "stream",
     "text": [
      "Filling queue with 20000 CIFAR images before starting to train. This will take a few minutes.\n"
     ]
    }
   ],
   "source": [
    "images_train, labels_train = cifar10_input.distorted_inputs(data_dir=data_dir,  \n",
    "                                                            batch_size=batch_size)"
   ]
  },
  {
   "cell_type": "code",
   "execution_count": 127,
   "metadata": {
    "collapsed": true
   },
   "outputs": [],
   "source": [
    "images_test, labels_test = cifar10_input.inputs(eval_data=True,  \n",
    "                                                data_dir=data_dir,  \n",
    "                                                batch_size=batch_size)"
   ]
  },
  {
   "cell_type": "code",
   "execution_count": 128,
   "metadata": {
    "collapsed": true
   },
   "outputs": [],
   "source": [
    "image_holder = tf.placeholder(tf.float32, [batch_size, 24, 24, 3])  \n",
    "label_holder = tf.placeholder(tf.int32, [batch_size]) "
   ]
  },
  {
   "cell_type": "code",
   "execution_count": 129,
   "metadata": {
    "collapsed": true
   },
   "outputs": [],
   "source": [
    "weight1 = variable_with_weight_loss(shape=[5, 5, 3, 64], stddev=5e-2, wl=0.0)  \n",
    "kernel1 = tf.nn.conv2d(image_holder, weight1, [1, 1, 1, 1], padding='SAME')  \n",
    "bias1 = tf.Variable(tf.constant(0.0, shape=[64]))  \n",
    "conv1 = tf.nn.relu(tf.nn.bias_add(kernel1, bias1))  \n",
    "pool1 = tf.nn.max_pool(conv1, ksize=[1, 3, 3, 1], strides=[1, 2, 2, 1],  \n",
    "                       padding='SAME')  \n",
    "norm1 = tf.nn.lrn(pool1, 4, bias=1.0, alpha=0.001 / 9.0, beta=0.75) "
   ]
  },
  {
   "cell_type": "code",
   "execution_count": 130,
   "metadata": {
    "collapsed": true
   },
   "outputs": [],
   "source": [
    "weight2 = variable_with_weight_loss(shape=[5, 5, 64, 64], stddev=5e-2, wl=0.0)  \n",
    "kernel2 = tf.nn.conv2d(norm1, weight2, [1, 1, 1, 1], padding='SAME')  \n",
    "bias2 = tf.Variable(tf.constant(0.1, shape=[64]))  \n",
    "conv2 = tf.nn.relu(tf.nn.bias_add(kernel2, bias2))  \n",
    "norm2 = tf.nn.lrn(conv2, 4, bias=1.0, alpha=0.001 / 9.0, beta=0.75)  \n",
    "pool2 = tf.nn.max_pool(norm2, ksize=[1, 3, 3, 1], strides=[1, 2, 2, 1],  \n",
    "                       padding='SAME')  "
   ]
  },
  {
   "cell_type": "code",
   "execution_count": 131,
   "metadata": {
    "collapsed": true
   },
   "outputs": [],
   "source": [
    "reshape = tf.reshape(pool2, [batch_size, -1])  \n",
    "dim = reshape.get_shape()[1].value  \n",
    "weight3 = variable_with_weight_loss(shape=[dim, 384], stddev=0.04, wl=0.004)  \n",
    "bias3 = tf.Variable(tf.constant(0.1, shape=[384]))  \n",
    "local3 = tf.nn.relu(tf.matmul(reshape, weight3) + bias3)  "
   ]
  },
  {
   "cell_type": "code",
   "execution_count": 132,
   "metadata": {
    "collapsed": true
   },
   "outputs": [],
   "source": [
    "weight4 = variable_with_weight_loss(shape=[384, 192], stddev=0.04, wl=0.004)  \n",
    "bias4 = tf.Variable(tf.constant(0.1, shape=[192]))                                        \n",
    "local4 = tf.nn.relu(tf.matmul(local3, weight4) + bias4)  "
   ]
  },
  {
   "cell_type": "code",
   "execution_count": 133,
   "metadata": {
    "collapsed": true
   },
   "outputs": [],
   "source": [
    "weight5 = variable_with_weight_loss(shape=[192, 10], stddev=1/192.0, wl=0.0)  \n",
    "bias5 = tf.Variable(tf.constant(0.0, shape=[10]))  \n",
    "logits = tf.add(tf.matmul(local4, weight5), bias5)  "
   ]
  },
  {
   "cell_type": "code",
   "execution_count": 134,
   "metadata": {
    "collapsed": true
   },
   "outputs": [],
   "source": [
    "loss = loss(logits, label_holder)  "
   ]
  },
  {
   "cell_type": "code",
   "execution_count": 135,
   "metadata": {
    "collapsed": true
   },
   "outputs": [],
   "source": [
    "train_op = tf.train.AdamOptimizer(1e-3).minimize(loss) "
   ]
  },
  {
   "cell_type": "code",
   "execution_count": 136,
   "metadata": {
    "collapsed": true
   },
   "outputs": [],
   "source": [
    "top_k_op = tf.nn.in_top_k(logits, label_holder, 1)"
   ]
  },
  {
   "cell_type": "code",
   "execution_count": 137,
   "metadata": {
    "collapsed": true
   },
   "outputs": [],
   "source": [
    "sess = tf.InteractiveSession()  \n",
    "tf.global_variables_initializer().run()  "
   ]
  },
  {
   "cell_type": "code",
   "execution_count": 138,
   "metadata": {
    "scrolled": false
   },
   "outputs": [
    {
     "data": {
      "text/plain": [
       "[<Thread(QueueRunnerThread-input_producer-input_producer/input_producer_EnqueueMany, started daemon 123148281806848)>,\n",
       " <Thread(QueueRunnerThread-shuffle_batch/random_shuffle_queue-shuffle_batch/random_shuffle_queue_enqueue, started daemon 123148287062016)>,\n",
       " <Thread(QueueRunnerThread-shuffle_batch/random_shuffle_queue-shuffle_batch/random_shuffle_queue_enqueue, started daemon 123148292317184)>,\n",
       " <Thread(QueueRunnerThread-shuffle_batch/random_shuffle_queue-shuffle_batch/random_shuffle_queue_enqueue, started daemon 123148297572352)>,\n",
       " <Thread(QueueRunnerThread-shuffle_batch/random_shuffle_queue-shuffle_batch/random_shuffle_queue_enqueue, started daemon 123148302827520)>,\n",
       " <Thread(QueueRunnerThread-shuffle_batch/random_shuffle_queue-shuffle_batch/random_shuffle_queue_enqueue, started daemon 123148308082688)>,\n",
       " <Thread(QueueRunnerThread-shuffle_batch/random_shuffle_queue-shuffle_batch/random_shuffle_queue_enqueue, started daemon 123148313337856)>,\n",
       " <Thread(QueueRunnerThread-shuffle_batch/random_shuffle_queue-shuffle_batch/random_shuffle_queue_enqueue, started daemon 123148318593024)>,\n",
       " <Thread(QueueRunnerThread-shuffle_batch/random_shuffle_queue-shuffle_batch/random_shuffle_queue_enqueue, started daemon 123148323848192)>,\n",
       " <Thread(QueueRunnerThread-shuffle_batch/random_shuffle_queue-shuffle_batch/random_shuffle_queue_enqueue, started daemon 123148329103360)>,\n",
       " <Thread(QueueRunnerThread-shuffle_batch/random_shuffle_queue-shuffle_batch/random_shuffle_queue_enqueue, started daemon 123148334358528)>,\n",
       " <Thread(QueueRunnerThread-shuffle_batch/random_shuffle_queue-shuffle_batch/random_shuffle_queue_enqueue, started daemon 123148339613696)>,\n",
       " <Thread(QueueRunnerThread-shuffle_batch/random_shuffle_queue-shuffle_batch/random_shuffle_queue_enqueue, started daemon 123148344868864)>,\n",
       " <Thread(QueueRunnerThread-shuffle_batch/random_shuffle_queue-shuffle_batch/random_shuffle_queue_enqueue, started daemon 123148350124032)>,\n",
       " <Thread(QueueRunnerThread-shuffle_batch/random_shuffle_queue-shuffle_batch/random_shuffle_queue_enqueue, started daemon 123148355379200)>,\n",
       " <Thread(QueueRunnerThread-shuffle_batch/random_shuffle_queue-shuffle_batch/random_shuffle_queue_enqueue, started daemon 123148360634368)>,\n",
       " <Thread(QueueRunnerThread-shuffle_batch/random_shuffle_queue-shuffle_batch/random_shuffle_queue_enqueue, started daemon 123148365889536)>,\n",
       " <Thread(QueueRunnerThread-input_producer_1-input_producer_1/input_producer_1_EnqueueMany, started daemon 123148371144704)>,\n",
       " <Thread(QueueRunnerThread-batch/fifo_queue-batch/fifo_queue_enqueue, started daemon 123148376399872)>,\n",
       " <Thread(QueueRunnerThread-batch/fifo_queue-batch/fifo_queue_enqueue, started daemon 123148381655040)>,\n",
       " <Thread(QueueRunnerThread-batch/fifo_queue-batch/fifo_queue_enqueue, started daemon 123148386910208)>,\n",
       " <Thread(QueueRunnerThread-batch/fifo_queue-batch/fifo_queue_enqueue, started daemon 123148392165376)>,\n",
       " <Thread(QueueRunnerThread-batch/fifo_queue-batch/fifo_queue_enqueue, started daemon 123148397420544)>,\n",
       " <Thread(QueueRunnerThread-batch/fifo_queue-batch/fifo_queue_enqueue, started daemon 123148402675712)>,\n",
       " <Thread(QueueRunnerThread-batch/fifo_queue-batch/fifo_queue_enqueue, started daemon 123148407930880)>,\n",
       " <Thread(QueueRunnerThread-batch/fifo_queue-batch/fifo_queue_enqueue, started daemon 123148413186048)>,\n",
       " <Thread(QueueRunnerThread-batch/fifo_queue-batch/fifo_queue_enqueue, started daemon 123148418441216)>,\n",
       " <Thread(QueueRunnerThread-batch/fifo_queue-batch/fifo_queue_enqueue, started daemon 123148423696384)>,\n",
       " <Thread(QueueRunnerThread-batch/fifo_queue-batch/fifo_queue_enqueue, started daemon 123148428951552)>,\n",
       " <Thread(QueueRunnerThread-batch/fifo_queue-batch/fifo_queue_enqueue, started daemon 123148434206720)>,\n",
       " <Thread(QueueRunnerThread-batch/fifo_queue-batch/fifo_queue_enqueue, started daemon 123148439461888)>,\n",
       " <Thread(QueueRunnerThread-batch/fifo_queue-batch/fifo_queue_enqueue, started daemon 123148444717056)>,\n",
       " <Thread(QueueRunnerThread-batch/fifo_queue-batch/fifo_queue_enqueue, started daemon 123148449972224)>,\n",
       " <Thread(QueueRunnerThread-batch/fifo_queue-batch/fifo_queue_enqueue, started daemon 123148455227392)>,\n",
       " <Thread(QueueRunnerThread-input_producer_2-input_producer_2/input_producer_2_EnqueueMany, started daemon 123148460482560)>,\n",
       " <Thread(QueueRunnerThread-shuffle_batch_1/random_shuffle_queue-shuffle_batch_1/random_shuffle_queue_enqueue, started daemon 123148465737728)>,\n",
       " <Thread(QueueRunnerThread-shuffle_batch_1/random_shuffle_queue-shuffle_batch_1/random_shuffle_queue_enqueue, started daemon 123148470992896)>,\n",
       " <Thread(QueueRunnerThread-shuffle_batch_1/random_shuffle_queue-shuffle_batch_1/random_shuffle_queue_enqueue, started daemon 123148476248064)>,\n",
       " <Thread(QueueRunnerThread-shuffle_batch_1/random_shuffle_queue-shuffle_batch_1/random_shuffle_queue_enqueue, started daemon 123148481503232)>,\n",
       " <Thread(QueueRunnerThread-shuffle_batch_1/random_shuffle_queue-shuffle_batch_1/random_shuffle_queue_enqueue, started daemon 123148486758400)>,\n",
       " <Thread(QueueRunnerThread-shuffle_batch_1/random_shuffle_queue-shuffle_batch_1/random_shuffle_queue_enqueue, started daemon 123148492013568)>,\n",
       " <Thread(QueueRunnerThread-shuffle_batch_1/random_shuffle_queue-shuffle_batch_1/random_shuffle_queue_enqueue, started daemon 123148497268736)>,\n",
       " <Thread(QueueRunnerThread-shuffle_batch_1/random_shuffle_queue-shuffle_batch_1/random_shuffle_queue_enqueue, started daemon 123148502523904)>,\n",
       " <Thread(QueueRunnerThread-shuffle_batch_1/random_shuffle_queue-shuffle_batch_1/random_shuffle_queue_enqueue, started daemon 123148507779072)>,\n",
       " <Thread(QueueRunnerThread-shuffle_batch_1/random_shuffle_queue-shuffle_batch_1/random_shuffle_queue_enqueue, started daemon 123148513034240)>,\n",
       " <Thread(QueueRunnerThread-shuffle_batch_1/random_shuffle_queue-shuffle_batch_1/random_shuffle_queue_enqueue, started daemon 123148518289408)>,\n",
       " <Thread(QueueRunnerThread-shuffle_batch_1/random_shuffle_queue-shuffle_batch_1/random_shuffle_queue_enqueue, started daemon 123148523544576)>,\n",
       " <Thread(QueueRunnerThread-shuffle_batch_1/random_shuffle_queue-shuffle_batch_1/random_shuffle_queue_enqueue, started daemon 123148528799744)>,\n",
       " <Thread(QueueRunnerThread-shuffle_batch_1/random_shuffle_queue-shuffle_batch_1/random_shuffle_queue_enqueue, started daemon 123148534054912)>,\n",
       " <Thread(QueueRunnerThread-shuffle_batch_1/random_shuffle_queue-shuffle_batch_1/random_shuffle_queue_enqueue, started daemon 123148539310080)>,\n",
       " <Thread(QueueRunnerThread-shuffle_batch_1/random_shuffle_queue-shuffle_batch_1/random_shuffle_queue_enqueue, started daemon 123148544565248)>,\n",
       " <Thread(QueueRunnerThread-input_producer_3-input_producer_3/input_producer_3_EnqueueMany, started daemon 123148549820416)>,\n",
       " <Thread(QueueRunnerThread-batch_1/fifo_queue-batch_1/fifo_queue_enqueue, started daemon 123148555075584)>,\n",
       " <Thread(QueueRunnerThread-batch_1/fifo_queue-batch_1/fifo_queue_enqueue, started daemon 123148560330752)>,\n",
       " <Thread(QueueRunnerThread-batch_1/fifo_queue-batch_1/fifo_queue_enqueue, started daemon 123148565585920)>,\n",
       " <Thread(QueueRunnerThread-batch_1/fifo_queue-batch_1/fifo_queue_enqueue, started daemon 123148570841088)>,\n",
       " <Thread(QueueRunnerThread-batch_1/fifo_queue-batch_1/fifo_queue_enqueue, started daemon 123148576096256)>,\n",
       " <Thread(QueueRunnerThread-batch_1/fifo_queue-batch_1/fifo_queue_enqueue, started daemon 123148581351424)>,\n",
       " <Thread(QueueRunnerThread-batch_1/fifo_queue-batch_1/fifo_queue_enqueue, started daemon 123148586606592)>,\n",
       " <Thread(QueueRunnerThread-batch_1/fifo_queue-batch_1/fifo_queue_enqueue, started daemon 123148591861760)>,\n",
       " <Thread(QueueRunnerThread-batch_1/fifo_queue-batch_1/fifo_queue_enqueue, started daemon 123148597116928)>,\n",
       " <Thread(QueueRunnerThread-batch_1/fifo_queue-batch_1/fifo_queue_enqueue, started daemon 123148602372096)>,\n",
       " <Thread(QueueRunnerThread-batch_1/fifo_queue-batch_1/fifo_queue_enqueue, started daemon 123148607627264)>,\n",
       " <Thread(QueueRunnerThread-batch_1/fifo_queue-batch_1/fifo_queue_enqueue, started daemon 123148612882432)>,\n",
       " <Thread(QueueRunnerThread-batch_1/fifo_queue-batch_1/fifo_queue_enqueue, started daemon 123148618137600)>,\n",
       " <Thread(QueueRunnerThread-batch_1/fifo_queue-batch_1/fifo_queue_enqueue, started daemon 123148623392768)>,\n",
       " <Thread(QueueRunnerThread-batch_1/fifo_queue-batch_1/fifo_queue_enqueue, started daemon 123148628647936)>,\n",
       " <Thread(QueueRunnerThread-batch_1/fifo_queue-batch_1/fifo_queue_enqueue, started daemon 123148633903104)>,\n",
       " <Thread(QueueRunnerThread-input_producer_4-input_producer_4/input_producer_4_EnqueueMany, started daemon 123148639158272)>,\n",
       " <Thread(QueueRunnerThread-shuffle_batch_2/random_shuffle_queue-shuffle_batch_2/random_shuffle_queue_enqueue, started daemon 123148644413440)>,\n",
       " <Thread(QueueRunnerThread-shuffle_batch_2/random_shuffle_queue-shuffle_batch_2/random_shuffle_queue_enqueue, started daemon 123148649668608)>,\n",
       " <Thread(QueueRunnerThread-shuffle_batch_2/random_shuffle_queue-shuffle_batch_2/random_shuffle_queue_enqueue, started daemon 123148654923776)>,\n",
       " <Thread(QueueRunnerThread-shuffle_batch_2/random_shuffle_queue-shuffle_batch_2/random_shuffle_queue_enqueue, started daemon 123148660178944)>,\n",
       " <Thread(QueueRunnerThread-shuffle_batch_2/random_shuffle_queue-shuffle_batch_2/random_shuffle_queue_enqueue, started daemon 123148665434112)>,\n",
       " <Thread(QueueRunnerThread-shuffle_batch_2/random_shuffle_queue-shuffle_batch_2/random_shuffle_queue_enqueue, started daemon 123148670689280)>,\n",
       " <Thread(QueueRunnerThread-shuffle_batch_2/random_shuffle_queue-shuffle_batch_2/random_shuffle_queue_enqueue, started daemon 123148675944448)>,\n",
       " <Thread(QueueRunnerThread-shuffle_batch_2/random_shuffle_queue-shuffle_batch_2/random_shuffle_queue_enqueue, started daemon 123148681199616)>,\n",
       " <Thread(QueueRunnerThread-shuffle_batch_2/random_shuffle_queue-shuffle_batch_2/random_shuffle_queue_enqueue, started daemon 123148686454784)>,\n",
       " <Thread(QueueRunnerThread-shuffle_batch_2/random_shuffle_queue-shuffle_batch_2/random_shuffle_queue_enqueue, started daemon 123148691709952)>,\n",
       " <Thread(QueueRunnerThread-shuffle_batch_2/random_shuffle_queue-shuffle_batch_2/random_shuffle_queue_enqueue, started daemon 123148696965120)>,\n",
       " <Thread(QueueRunnerThread-shuffle_batch_2/random_shuffle_queue-shuffle_batch_2/random_shuffle_queue_enqueue, started daemon 123148702220288)>,\n",
       " <Thread(QueueRunnerThread-shuffle_batch_2/random_shuffle_queue-shuffle_batch_2/random_shuffle_queue_enqueue, started daemon 123148707475456)>,\n",
       " <Thread(QueueRunnerThread-shuffle_batch_2/random_shuffle_queue-shuffle_batch_2/random_shuffle_queue_enqueue, started daemon 123148712730624)>,\n",
       " <Thread(QueueRunnerThread-shuffle_batch_2/random_shuffle_queue-shuffle_batch_2/random_shuffle_queue_enqueue, started daemon 123148717985792)>,\n",
       " <Thread(QueueRunnerThread-shuffle_batch_2/random_shuffle_queue-shuffle_batch_2/random_shuffle_queue_enqueue, started daemon 123148723240960)>,\n",
       " <Thread(QueueRunnerThread-input_producer_5-input_producer_5/input_producer_5_EnqueueMany, started daemon 123148728496128)>,\n",
       " <Thread(QueueRunnerThread-batch_2/fifo_queue-batch_2/fifo_queue_enqueue, started daemon 123148733751296)>,\n",
       " <Thread(QueueRunnerThread-batch_2/fifo_queue-batch_2/fifo_queue_enqueue, started daemon 123148739006464)>,\n",
       " <Thread(QueueRunnerThread-batch_2/fifo_queue-batch_2/fifo_queue_enqueue, started daemon 123148744261632)>,\n",
       " <Thread(QueueRunnerThread-batch_2/fifo_queue-batch_2/fifo_queue_enqueue, started daemon 123148749516800)>,\n",
       " <Thread(QueueRunnerThread-batch_2/fifo_queue-batch_2/fifo_queue_enqueue, started daemon 123148754771968)>,\n",
       " <Thread(QueueRunnerThread-batch_2/fifo_queue-batch_2/fifo_queue_enqueue, started daemon 123148760027136)>,\n",
       " <Thread(QueueRunnerThread-batch_2/fifo_queue-batch_2/fifo_queue_enqueue, started daemon 123148765282304)>,\n",
       " <Thread(QueueRunnerThread-batch_2/fifo_queue-batch_2/fifo_queue_enqueue, started daemon 123148770537472)>,\n",
       " <Thread(QueueRunnerThread-batch_2/fifo_queue-batch_2/fifo_queue_enqueue, started daemon 123148775792640)>,\n",
       " <Thread(QueueRunnerThread-batch_2/fifo_queue-batch_2/fifo_queue_enqueue, started daemon 123148781047808)>,\n",
       " <Thread(QueueRunnerThread-batch_2/fifo_queue-batch_2/fifo_queue_enqueue, started daemon 123148786302976)>,\n",
       " <Thread(QueueRunnerThread-batch_2/fifo_queue-batch_2/fifo_queue_enqueue, started daemon 123148791558144)>,\n",
       " <Thread(QueueRunnerThread-batch_2/fifo_queue-batch_2/fifo_queue_enqueue, started daemon 123148796813312)>,\n",
       " <Thread(QueueRunnerThread-batch_2/fifo_queue-batch_2/fifo_queue_enqueue, started daemon 123148802068480)>,\n",
       " <Thread(QueueRunnerThread-batch_2/fifo_queue-batch_2/fifo_queue_enqueue, started daemon 123148807323648)>,\n",
       " <Thread(QueueRunnerThread-batch_2/fifo_queue-batch_2/fifo_queue_enqueue, started daemon 123148812578816)>,\n",
       " <Thread(QueueRunnerThread-input_producer_6-input_producer_6/input_producer_6_EnqueueMany, started daemon 123148817833984)>,\n",
       " <Thread(QueueRunnerThread-shuffle_batch_3/random_shuffle_queue-shuffle_batch_3/random_shuffle_queue_enqueue, started daemon 123148823089152)>,\n",
       " <Thread(QueueRunnerThread-shuffle_batch_3/random_shuffle_queue-shuffle_batch_3/random_shuffle_queue_enqueue, started daemon 123148828344320)>,\n",
       " <Thread(QueueRunnerThread-shuffle_batch_3/random_shuffle_queue-shuffle_batch_3/random_shuffle_queue_enqueue, started daemon 123148833599488)>,\n",
       " <Thread(QueueRunnerThread-shuffle_batch_3/random_shuffle_queue-shuffle_batch_3/random_shuffle_queue_enqueue, started daemon 123148838854656)>,\n",
       " <Thread(QueueRunnerThread-shuffle_batch_3/random_shuffle_queue-shuffle_batch_3/random_shuffle_queue_enqueue, started daemon 123148844109824)>,\n",
       " <Thread(QueueRunnerThread-shuffle_batch_3/random_shuffle_queue-shuffle_batch_3/random_shuffle_queue_enqueue, started daemon 123148849364992)>,\n",
       " <Thread(QueueRunnerThread-shuffle_batch_3/random_shuffle_queue-shuffle_batch_3/random_shuffle_queue_enqueue, started daemon 123148854620160)>,\n",
       " <Thread(QueueRunnerThread-shuffle_batch_3/random_shuffle_queue-shuffle_batch_3/random_shuffle_queue_enqueue, started daemon 123148859875328)>,\n",
       " <Thread(QueueRunnerThread-shuffle_batch_3/random_shuffle_queue-shuffle_batch_3/random_shuffle_queue_enqueue, started daemon 123148865130496)>,\n",
       " <Thread(QueueRunnerThread-shuffle_batch_3/random_shuffle_queue-shuffle_batch_3/random_shuffle_queue_enqueue, started daemon 123148870385664)>,\n",
       " <Thread(QueueRunnerThread-shuffle_batch_3/random_shuffle_queue-shuffle_batch_3/random_shuffle_queue_enqueue, started daemon 123148875640832)>,\n",
       " <Thread(QueueRunnerThread-shuffle_batch_3/random_shuffle_queue-shuffle_batch_3/random_shuffle_queue_enqueue, started daemon 123148880896000)>,\n",
       " <Thread(QueueRunnerThread-shuffle_batch_3/random_shuffle_queue-shuffle_batch_3/random_shuffle_queue_enqueue, started daemon 123148886151168)>,\n",
       " <Thread(QueueRunnerThread-shuffle_batch_3/random_shuffle_queue-shuffle_batch_3/random_shuffle_queue_enqueue, started daemon 123148891406336)>,\n",
       " <Thread(QueueRunnerThread-shuffle_batch_3/random_shuffle_queue-shuffle_batch_3/random_shuffle_queue_enqueue, started daemon 123148896661504)>,\n",
       " <Thread(QueueRunnerThread-shuffle_batch_3/random_shuffle_queue-shuffle_batch_3/random_shuffle_queue_enqueue, started daemon 123148901916672)>,\n",
       " <Thread(QueueRunnerThread-input_producer_7-input_producer_7/input_producer_7_EnqueueMany, started daemon 123148907171840)>,\n",
       " <Thread(QueueRunnerThread-batch_3/fifo_queue-batch_3/fifo_queue_enqueue, started daemon 123148912427008)>,\n",
       " <Thread(QueueRunnerThread-batch_3/fifo_queue-batch_3/fifo_queue_enqueue, started daemon 123148917682176)>,\n",
       " <Thread(QueueRunnerThread-batch_3/fifo_queue-batch_3/fifo_queue_enqueue, started daemon 123148922937344)>,\n",
       " <Thread(QueueRunnerThread-batch_3/fifo_queue-batch_3/fifo_queue_enqueue, started daemon 123148928192512)>,\n",
       " <Thread(QueueRunnerThread-batch_3/fifo_queue-batch_3/fifo_queue_enqueue, started daemon 123148933447680)>,\n",
       " <Thread(QueueRunnerThread-batch_3/fifo_queue-batch_3/fifo_queue_enqueue, started daemon 123148938702848)>,\n",
       " <Thread(QueueRunnerThread-batch_3/fifo_queue-batch_3/fifo_queue_enqueue, started daemon 123148943958016)>,\n",
       " <Thread(QueueRunnerThread-batch_3/fifo_queue-batch_3/fifo_queue_enqueue, started daemon 123148949213184)>,\n",
       " <Thread(QueueRunnerThread-batch_3/fifo_queue-batch_3/fifo_queue_enqueue, started daemon 123148954468352)>,\n",
       " <Thread(QueueRunnerThread-batch_3/fifo_queue-batch_3/fifo_queue_enqueue, started daemon 123148959723520)>,\n",
       " <Thread(QueueRunnerThread-batch_3/fifo_queue-batch_3/fifo_queue_enqueue, started daemon 123148964978688)>,\n",
       " <Thread(QueueRunnerThread-batch_3/fifo_queue-batch_3/fifo_queue_enqueue, started daemon 123148970233856)>,\n",
       " <Thread(QueueRunnerThread-batch_3/fifo_queue-batch_3/fifo_queue_enqueue, started daemon 123148975489024)>,\n",
       " <Thread(QueueRunnerThread-batch_3/fifo_queue-batch_3/fifo_queue_enqueue, started daemon 123148980744192)>,\n",
       " <Thread(QueueRunnerThread-batch_3/fifo_queue-batch_3/fifo_queue_enqueue, started daemon 123148985999360)>,\n",
       " <Thread(QueueRunnerThread-batch_3/fifo_queue-batch_3/fifo_queue_enqueue, started daemon 123148991254528)>,\n",
       " <Thread(QueueRunnerThread-input_producer_8-input_producer_8/input_producer_8_EnqueueMany, started daemon 123148996509696)>,\n",
       " <Thread(QueueRunnerThread-shuffle_batch_4/random_shuffle_queue-shuffle_batch_4/random_shuffle_queue_enqueue, started daemon 123149001764864)>,\n",
       " <Thread(QueueRunnerThread-shuffle_batch_4/random_shuffle_queue-shuffle_batch_4/random_shuffle_queue_enqueue, started daemon 123149007020032)>,\n",
       " <Thread(QueueRunnerThread-shuffle_batch_4/random_shuffle_queue-shuffle_batch_4/random_shuffle_queue_enqueue, started daemon 123149012275200)>,\n",
       " <Thread(QueueRunnerThread-shuffle_batch_4/random_shuffle_queue-shuffle_batch_4/random_shuffle_queue_enqueue, started daemon 123149017530368)>,\n",
       " <Thread(QueueRunnerThread-shuffle_batch_4/random_shuffle_queue-shuffle_batch_4/random_shuffle_queue_enqueue, started daemon 123149022785536)>,\n",
       " <Thread(QueueRunnerThread-shuffle_batch_4/random_shuffle_queue-shuffle_batch_4/random_shuffle_queue_enqueue, started daemon 123149028040704)>,\n",
       " <Thread(QueueRunnerThread-shuffle_batch_4/random_shuffle_queue-shuffle_batch_4/random_shuffle_queue_enqueue, started daemon 123149033295872)>,\n",
       " <Thread(QueueRunnerThread-shuffle_batch_4/random_shuffle_queue-shuffle_batch_4/random_shuffle_queue_enqueue, started daemon 123149038551040)>,\n",
       " <Thread(QueueRunnerThread-shuffle_batch_4/random_shuffle_queue-shuffle_batch_4/random_shuffle_queue_enqueue, started daemon 123149043806208)>,\n",
       " <Thread(QueueRunnerThread-shuffle_batch_4/random_shuffle_queue-shuffle_batch_4/random_shuffle_queue_enqueue, started daemon 123149049061376)>,\n",
       " <Thread(QueueRunnerThread-shuffle_batch_4/random_shuffle_queue-shuffle_batch_4/random_shuffle_queue_enqueue, started daemon 123149054316544)>,\n",
       " <Thread(QueueRunnerThread-shuffle_batch_4/random_shuffle_queue-shuffle_batch_4/random_shuffle_queue_enqueue, started daemon 123149059571712)>,\n",
       " <Thread(QueueRunnerThread-shuffle_batch_4/random_shuffle_queue-shuffle_batch_4/random_shuffle_queue_enqueue, started daemon 123149064826880)>,\n",
       " <Thread(QueueRunnerThread-shuffle_batch_4/random_shuffle_queue-shuffle_batch_4/random_shuffle_queue_enqueue, started daemon 123149070082048)>,\n",
       " <Thread(QueueRunnerThread-shuffle_batch_4/random_shuffle_queue-shuffle_batch_4/random_shuffle_queue_enqueue, started daemon 123149075337216)>,\n",
       " <Thread(QueueRunnerThread-shuffle_batch_4/random_shuffle_queue-shuffle_batch_4/random_shuffle_queue_enqueue, started daemon 123149080592384)>,\n",
       " <Thread(QueueRunnerThread-input_producer_9-input_producer_9/input_producer_9_EnqueueMany, started daemon 123149085847552)>,\n",
       " <Thread(QueueRunnerThread-batch_4/fifo_queue-batch_4/fifo_queue_enqueue, started daemon 123149091102720)>,\n",
       " <Thread(QueueRunnerThread-batch_4/fifo_queue-batch_4/fifo_queue_enqueue, started daemon 123149096357888)>,\n",
       " <Thread(QueueRunnerThread-batch_4/fifo_queue-batch_4/fifo_queue_enqueue, started daemon 123149101613056)>,\n",
       " <Thread(QueueRunnerThread-batch_4/fifo_queue-batch_4/fifo_queue_enqueue, started daemon 123149106868224)>,\n",
       " <Thread(QueueRunnerThread-batch_4/fifo_queue-batch_4/fifo_queue_enqueue, started daemon 123149112123392)>,\n",
       " <Thread(QueueRunnerThread-batch_4/fifo_queue-batch_4/fifo_queue_enqueue, started daemon 123149117378560)>,\n",
       " <Thread(QueueRunnerThread-batch_4/fifo_queue-batch_4/fifo_queue_enqueue, started daemon 123149122633728)>,\n",
       " <Thread(QueueRunnerThread-batch_4/fifo_queue-batch_4/fifo_queue_enqueue, started daemon 123149127888896)>,\n",
       " <Thread(QueueRunnerThread-batch_4/fifo_queue-batch_4/fifo_queue_enqueue, started daemon 123149133144064)>,\n",
       " <Thread(QueueRunnerThread-batch_4/fifo_queue-batch_4/fifo_queue_enqueue, started daemon 123149138399232)>,\n",
       " <Thread(QueueRunnerThread-batch_4/fifo_queue-batch_4/fifo_queue_enqueue, started daemon 123149143654400)>,\n",
       " <Thread(QueueRunnerThread-batch_4/fifo_queue-batch_4/fifo_queue_enqueue, started daemon 123149148909568)>,\n",
       " <Thread(QueueRunnerThread-batch_4/fifo_queue-batch_4/fifo_queue_enqueue, started daemon 123149154164736)>,\n",
       " <Thread(QueueRunnerThread-batch_4/fifo_queue-batch_4/fifo_queue_enqueue, started daemon 123149159419904)>,\n",
       " <Thread(QueueRunnerThread-batch_4/fifo_queue-batch_4/fifo_queue_enqueue, started daemon 123149164675072)>,\n",
       " <Thread(QueueRunnerThread-batch_4/fifo_queue-batch_4/fifo_queue_enqueue, started daemon 123149169930240)>,\n",
       " <Thread(QueueRunnerThread-input_producer_10-input_producer_10/input_producer_10_EnqueueMany, started daemon 123149175185408)>,\n",
       " <Thread(QueueRunnerThread-shuffle_batch_5/random_shuffle_queue-shuffle_batch_5/random_shuffle_queue_enqueue, started daemon 123149180440576)>,\n",
       " <Thread(QueueRunnerThread-shuffle_batch_5/random_shuffle_queue-shuffle_batch_5/random_shuffle_queue_enqueue, started daemon 123149185695744)>,\n",
       " <Thread(QueueRunnerThread-shuffle_batch_5/random_shuffle_queue-shuffle_batch_5/random_shuffle_queue_enqueue, started daemon 123149190950912)>,\n",
       " <Thread(QueueRunnerThread-shuffle_batch_5/random_shuffle_queue-shuffle_batch_5/random_shuffle_queue_enqueue, started daemon 123149196206080)>,\n",
       " <Thread(QueueRunnerThread-shuffle_batch_5/random_shuffle_queue-shuffle_batch_5/random_shuffle_queue_enqueue, started daemon 123149201461248)>,\n",
       " <Thread(QueueRunnerThread-shuffle_batch_5/random_shuffle_queue-shuffle_batch_5/random_shuffle_queue_enqueue, started daemon 123149206716416)>,\n",
       " <Thread(QueueRunnerThread-shuffle_batch_5/random_shuffle_queue-shuffle_batch_5/random_shuffle_queue_enqueue, started daemon 123149211971584)>,\n",
       " <Thread(QueueRunnerThread-shuffle_batch_5/random_shuffle_queue-shuffle_batch_5/random_shuffle_queue_enqueue, started daemon 123149217226752)>,\n",
       " <Thread(QueueRunnerThread-shuffle_batch_5/random_shuffle_queue-shuffle_batch_5/random_shuffle_queue_enqueue, started daemon 123149222481920)>,\n",
       " <Thread(QueueRunnerThread-shuffle_batch_5/random_shuffle_queue-shuffle_batch_5/random_shuffle_queue_enqueue, started daemon 123149227737088)>,\n",
       " <Thread(QueueRunnerThread-shuffle_batch_5/random_shuffle_queue-shuffle_batch_5/random_shuffle_queue_enqueue, started daemon 123149232992256)>,\n",
       " <Thread(QueueRunnerThread-shuffle_batch_5/random_shuffle_queue-shuffle_batch_5/random_shuffle_queue_enqueue, started daemon 123149238247424)>,\n",
       " <Thread(QueueRunnerThread-shuffle_batch_5/random_shuffle_queue-shuffle_batch_5/random_shuffle_queue_enqueue, started daemon 123149243502592)>,\n",
       " <Thread(QueueRunnerThread-shuffle_batch_5/random_shuffle_queue-shuffle_batch_5/random_shuffle_queue_enqueue, started daemon 123149248757760)>,\n",
       " <Thread(QueueRunnerThread-shuffle_batch_5/random_shuffle_queue-shuffle_batch_5/random_shuffle_queue_enqueue, started daemon 123149254012928)>,\n",
       " <Thread(QueueRunnerThread-shuffle_batch_5/random_shuffle_queue-shuffle_batch_5/random_shuffle_queue_enqueue, started daemon 123149259268096)>,\n",
       " <Thread(QueueRunnerThread-input_producer_11-input_producer_11/input_producer_11_EnqueueMany, started daemon 123149264523264)>,\n",
       " <Thread(QueueRunnerThread-batch_5/fifo_queue-batch_5/fifo_queue_enqueue, started daemon 123149269778432)>,\n",
       " <Thread(QueueRunnerThread-batch_5/fifo_queue-batch_5/fifo_queue_enqueue, started daemon 123149275033600)>,\n",
       " <Thread(QueueRunnerThread-batch_5/fifo_queue-batch_5/fifo_queue_enqueue, started daemon 123149280288768)>,\n",
       " <Thread(QueueRunnerThread-batch_5/fifo_queue-batch_5/fifo_queue_enqueue, started daemon 123149285543936)>,\n",
       " <Thread(QueueRunnerThread-batch_5/fifo_queue-batch_5/fifo_queue_enqueue, started daemon 123149290799104)>,\n",
       " <Thread(QueueRunnerThread-batch_5/fifo_queue-batch_5/fifo_queue_enqueue, started daemon 123149296054272)>,\n",
       " <Thread(QueueRunnerThread-batch_5/fifo_queue-batch_5/fifo_queue_enqueue, started daemon 123149301309440)>,\n",
       " <Thread(QueueRunnerThread-batch_5/fifo_queue-batch_5/fifo_queue_enqueue, started daemon 123149306564608)>,\n",
       " <Thread(QueueRunnerThread-batch_5/fifo_queue-batch_5/fifo_queue_enqueue, started daemon 123149311819776)>,\n",
       " <Thread(QueueRunnerThread-batch_5/fifo_queue-batch_5/fifo_queue_enqueue, started daemon 123149317074944)>,\n",
       " <Thread(QueueRunnerThread-batch_5/fifo_queue-batch_5/fifo_queue_enqueue, started daemon 123149322330112)>,\n",
       " <Thread(QueueRunnerThread-batch_5/fifo_queue-batch_5/fifo_queue_enqueue, started daemon 123149327585280)>,\n",
       " <Thread(QueueRunnerThread-batch_5/fifo_queue-batch_5/fifo_queue_enqueue, started daemon 123149332840448)>,\n",
       " <Thread(QueueRunnerThread-batch_5/fifo_queue-batch_5/fifo_queue_enqueue, started daemon 123149338095616)>,\n",
       " <Thread(QueueRunnerThread-batch_5/fifo_queue-batch_5/fifo_queue_enqueue, started daemon 123149343350784)>,\n",
       " <Thread(QueueRunnerThread-batch_5/fifo_queue-batch_5/fifo_queue_enqueue, started daemon 123149348605952)>]"
      ]
     },
     "execution_count": 138,
     "metadata": {},
     "output_type": "execute_result"
    }
   ],
   "source": [
    "tf.train.start_queue_runners() "
   ]
  },
  {
   "cell_type": "code",
   "execution_count": 139,
   "metadata": {},
   "outputs": [
    {
     "ename": "InvalidArgumentError",
     "evalue": "You must feed a value for placeholder tensor 'Placeholder_9' with dtype int32 and shape [128]\n\t [[Node: Placeholder_9 = Placeholder[dtype=DT_INT32, shape=[128], _device=\"/job:localhost/replica:0/task:0/device:CPU:0\"]()]]\n\nCaused by op 'Placeholder_9', defined at:\n  File \"/Users/wanhua/anaconda/lib/python3.5/runpy.py\", line 193, in _run_module_as_main\n    \"__main__\", mod_spec)\n  File \"/Users/wanhua/anaconda/lib/python3.5/runpy.py\", line 85, in _run_code\n    exec(code, run_globals)\n  File \"/Users/wanhua/anaconda/lib/python3.5/site-packages/ipykernel_launcher.py\", line 16, in <module>\n    app.launch_new_instance()\n  File \"/Users/wanhua/anaconda/lib/python3.5/site-packages/traitlets/config/application.py\", line 658, in launch_instance\n    app.start()\n  File \"/Users/wanhua/anaconda/lib/python3.5/site-packages/ipykernel/kernelapp.py\", line 477, in start\n    ioloop.IOLoop.instance().start()\n  File \"/Users/wanhua/anaconda/lib/python3.5/site-packages/zmq/eventloop/ioloop.py\", line 177, in start\n    super(ZMQIOLoop, self).start()\n  File \"/Users/wanhua/anaconda/lib/python3.5/site-packages/tornado/ioloop.py\", line 888, in start\n    handler_func(fd_obj, events)\n  File \"/Users/wanhua/anaconda/lib/python3.5/site-packages/tornado/stack_context.py\", line 277, in null_wrapper\n    return fn(*args, **kwargs)\n  File \"/Users/wanhua/anaconda/lib/python3.5/site-packages/zmq/eventloop/zmqstream.py\", line 440, in _handle_events\n    self._handle_recv()\n  File \"/Users/wanhua/anaconda/lib/python3.5/site-packages/zmq/eventloop/zmqstream.py\", line 472, in _handle_recv\n    self._run_callback(callback, msg)\n  File \"/Users/wanhua/anaconda/lib/python3.5/site-packages/zmq/eventloop/zmqstream.py\", line 414, in _run_callback\n    callback(*args, **kwargs)\n  File \"/Users/wanhua/anaconda/lib/python3.5/site-packages/tornado/stack_context.py\", line 277, in null_wrapper\n    return fn(*args, **kwargs)\n  File \"/Users/wanhua/anaconda/lib/python3.5/site-packages/ipykernel/kernelbase.py\", line 283, in dispatcher\n    return self.dispatch_shell(stream, msg)\n  File \"/Users/wanhua/anaconda/lib/python3.5/site-packages/ipykernel/kernelbase.py\", line 235, in dispatch_shell\n    handler(stream, idents, msg)\n  File \"/Users/wanhua/anaconda/lib/python3.5/site-packages/ipykernel/kernelbase.py\", line 399, in execute_request\n    user_expressions, allow_stdin)\n  File \"/Users/wanhua/anaconda/lib/python3.5/site-packages/ipykernel/ipkernel.py\", line 196, in do_execute\n    res = shell.run_cell(code, store_history=store_history, silent=silent)\n  File \"/Users/wanhua/anaconda/lib/python3.5/site-packages/ipykernel/zmqshell.py\", line 533, in run_cell\n    return super(ZMQInteractiveShell, self).run_cell(*args, **kwargs)\n  File \"/Users/wanhua/anaconda/lib/python3.5/site-packages/IPython/core/interactiveshell.py\", line 2698, in run_cell\n    interactivity=interactivity, compiler=compiler, result=result)\n  File \"/Users/wanhua/anaconda/lib/python3.5/site-packages/IPython/core/interactiveshell.py\", line 2802, in run_ast_nodes\n    if self.run_code(code, result):\n  File \"/Users/wanhua/anaconda/lib/python3.5/site-packages/IPython/core/interactiveshell.py\", line 2862, in run_code\n    exec(code_obj, self.user_global_ns, self.user_ns)\n  File \"<ipython-input-109-f1ab2869e7bc>\", line 2, in <module>\n    label_holder = tf.placeholder(tf.int32, [batch_size])\n  File \"/Users/wanhua/anaconda/lib/python3.5/site-packages/tensorflow/python/ops/array_ops.py\", line 1599, in placeholder\n    input_depth = input_shape[3]\n  File \"/Users/wanhua/anaconda/lib/python3.5/site-packages/tensorflow/python/ops/gen_array_ops.py\", line 3091, in _placeholder\n  File \"/Users/wanhua/anaconda/lib/python3.5/site-packages/tensorflow/python/framework/op_def_library.py\", line 787, in _apply_op_helper\n  File \"/Users/wanhua/anaconda/lib/python3.5/site-packages/tensorflow/python/framework/ops.py\", line 2956, in create_op\n    t = tf.matmul(tensor, tensor)\n  File \"/Users/wanhua/anaconda/lib/python3.5/site-packages/tensorflow/python/framework/ops.py\", line 1470, in __init__\n    This decorator is only used when defining a new op type. For an op\n\nInvalidArgumentError (see above for traceback): You must feed a value for placeholder tensor 'Placeholder_9' with dtype int32 and shape [128]\n\t [[Node: Placeholder_9 = Placeholder[dtype=DT_INT32, shape=[128], _device=\"/job:localhost/replica:0/task:0/device:CPU:0\"]()]]\n",
     "output_type": "error",
     "traceback": [
      "\u001b[0;31m---------------------------------------------------------------------------\u001b[0m",
      "\u001b[0;31mInvalidArgumentError\u001b[0m                      Traceback (most recent call last)",
      "\u001b[0;32m~/anaconda/lib/python3.5/site-packages/tensorflow/python/client/session.py\u001b[0m in \u001b[0;36m_do_call\u001b[0;34m(self, fn, *args)\u001b[0m\n",
      "\u001b[0;32m~/anaconda/lib/python3.5/site-packages/tensorflow/python/client/session.py\u001b[0m in \u001b[0;36m_run_fn\u001b[0;34m(session, feed_dict, fetch_list, target_list, options, run_metadata)\u001b[0m\n",
      "\u001b[0;32m~/anaconda/lib/python3.5/site-packages/tensorflow/python/framework/errors_impl.py\u001b[0m in \u001b[0;36m__exit__\u001b[0;34m(self, type_arg, value_arg, traceback_arg)\u001b[0m\n",
      "\u001b[0;31mInvalidArgumentError\u001b[0m: You must feed a value for placeholder tensor 'Placeholder_9' with dtype int32 and shape [128]\n\t [[Node: Placeholder_9 = Placeholder[dtype=DT_INT32, shape=[128], _device=\"/job:localhost/replica:0/task:0/device:CPU:0\"]()]]",
      "\nDuring handling of the above exception, another exception occurred:\n",
      "\u001b[0;31mInvalidArgumentError\u001b[0m                      Traceback (most recent call last)",
      "\u001b[0;32m<ipython-input-139-3e8d0334178c>\u001b[0m in \u001b[0;36m<module>\u001b[0;34m()\u001b[0m\n\u001b[1;32m      3\u001b[0m     \u001b[0mimage_batch\u001b[0m\u001b[0;34m,\u001b[0m\u001b[0mlabel_batch\u001b[0m \u001b[0;34m=\u001b[0m \u001b[0msess\u001b[0m\u001b[0;34m.\u001b[0m\u001b[0mrun\u001b[0m\u001b[0;34m(\u001b[0m\u001b[0;34m[\u001b[0m\u001b[0mimages_train\u001b[0m\u001b[0;34m,\u001b[0m\u001b[0mlabels_train\u001b[0m\u001b[0;34m]\u001b[0m\u001b[0;34m)\u001b[0m\u001b[0;34m\u001b[0m\u001b[0m\n\u001b[1;32m      4\u001b[0m     _, loss_value = sess.run([train_op, loss],feed_dict={image_holder: image_batch,   \n\u001b[0;32m----> 5\u001b[0;31m                                                          label_holder:label_batch})  \n\u001b[0m\u001b[1;32m      6\u001b[0m     \u001b[0mduration\u001b[0m \u001b[0;34m=\u001b[0m \u001b[0mtime\u001b[0m\u001b[0;34m.\u001b[0m\u001b[0mtime\u001b[0m\u001b[0;34m(\u001b[0m\u001b[0;34m)\u001b[0m \u001b[0;34m-\u001b[0m \u001b[0mstart_time\u001b[0m\u001b[0;34m\u001b[0m\u001b[0m\n\u001b[1;32m      7\u001b[0m \u001b[0;34m\u001b[0m\u001b[0m\n",
      "\u001b[0;32m~/anaconda/lib/python3.5/site-packages/tensorflow/python/client/session.py\u001b[0m in \u001b[0;36mrun\u001b[0;34m(self, fetches, feed_dict, options, run_metadata)\u001b[0m\n\u001b[1;32m    887\u001b[0m         \u001b[0mDefaults\u001b[0m \u001b[0mto\u001b[0m \u001b[0musing\u001b[0m \u001b[0man\u001b[0m \u001b[0;32min\u001b[0m\u001b[0;34m-\u001b[0m\u001b[0mprocess\u001b[0m \u001b[0mengine\u001b[0m\u001b[0;34m.\u001b[0m \u001b[0mAt\u001b[0m \u001b[0mpresent\u001b[0m\u001b[0;34m,\u001b[0m \u001b[0mno\u001b[0m \u001b[0mvalue\u001b[0m\u001b[0;34m\u001b[0m\u001b[0m\n\u001b[1;32m    888\u001b[0m         \u001b[0mother\u001b[0m \u001b[0mthan\u001b[0m \u001b[0mthe\u001b[0m \u001b[0mempty\u001b[0m \u001b[0mstring\u001b[0m \u001b[0;32mis\u001b[0m \u001b[0msupported\u001b[0m\u001b[0;34m.\u001b[0m\u001b[0;34m\u001b[0m\u001b[0m\n\u001b[0;32m--> 889\u001b[0;31m       \u001b[0mgraph\u001b[0m\u001b[0;34m:\u001b[0m \u001b[0;34m(\u001b[0m\u001b[0mOptional\u001b[0m\u001b[0;34m.\u001b[0m\u001b[0;34m)\u001b[0m \u001b[0mThe\u001b[0m\u001b[0;31m \u001b[0m\u001b[0;31m`\u001b[0m\u001b[0mGraph\u001b[0m\u001b[0;31m`\u001b[0m \u001b[0mto\u001b[0m \u001b[0mbe\u001b[0m \u001b[0mlaunched\u001b[0m \u001b[0;34m(\u001b[0m\u001b[0mdescribed\u001b[0m \u001b[0mabove\u001b[0m\u001b[0;34m)\u001b[0m\u001b[0;34m.\u001b[0m\u001b[0;34m\u001b[0m\u001b[0m\n\u001b[0m\u001b[1;32m    890\u001b[0m       \u001b[0mconfig\u001b[0m\u001b[0;34m:\u001b[0m \u001b[0;34m(\u001b[0m\u001b[0mOptional\u001b[0m\u001b[0;34m)\u001b[0m\u001b[0;31m \u001b[0m\u001b[0;31m`\u001b[0m\u001b[0mConfigProto\u001b[0m\u001b[0;31m`\u001b[0m \u001b[0mproto\u001b[0m \u001b[0mused\u001b[0m \u001b[0mto\u001b[0m \u001b[0mconfigure\u001b[0m \u001b[0mthe\u001b[0m \u001b[0msession\u001b[0m\u001b[0;34m.\u001b[0m\u001b[0;34m\u001b[0m\u001b[0m\n\u001b[1;32m    891\u001b[0m     \"\"\"\n",
      "\u001b[0;32m~/anaconda/lib/python3.5/site-packages/tensorflow/python/client/session.py\u001b[0m in \u001b[0;36m_run\u001b[0;34m(self, handle, fetches, feed_dict, options, run_metadata)\u001b[0m\n",
      "\u001b[0;32m~/anaconda/lib/python3.5/site-packages/tensorflow/python/client/session.py\u001b[0m in \u001b[0;36m_do_run\u001b[0;34m(self, handle, target_list, fetch_list, feed_dict, options, run_metadata)\u001b[0m\n",
      "\u001b[0;32m~/anaconda/lib/python3.5/site-packages/tensorflow/python/client/session.py\u001b[0m in \u001b[0;36m_do_call\u001b[0;34m(self, fn, *args)\u001b[0m\n",
      "\u001b[0;31mInvalidArgumentError\u001b[0m: You must feed a value for placeholder tensor 'Placeholder_9' with dtype int32 and shape [128]\n\t [[Node: Placeholder_9 = Placeholder[dtype=DT_INT32, shape=[128], _device=\"/job:localhost/replica:0/task:0/device:CPU:0\"]()]]\n\nCaused by op 'Placeholder_9', defined at:\n  File \"/Users/wanhua/anaconda/lib/python3.5/runpy.py\", line 193, in _run_module_as_main\n    \"__main__\", mod_spec)\n  File \"/Users/wanhua/anaconda/lib/python3.5/runpy.py\", line 85, in _run_code\n    exec(code, run_globals)\n  File \"/Users/wanhua/anaconda/lib/python3.5/site-packages/ipykernel_launcher.py\", line 16, in <module>\n    app.launch_new_instance()\n  File \"/Users/wanhua/anaconda/lib/python3.5/site-packages/traitlets/config/application.py\", line 658, in launch_instance\n    app.start()\n  File \"/Users/wanhua/anaconda/lib/python3.5/site-packages/ipykernel/kernelapp.py\", line 477, in start\n    ioloop.IOLoop.instance().start()\n  File \"/Users/wanhua/anaconda/lib/python3.5/site-packages/zmq/eventloop/ioloop.py\", line 177, in start\n    super(ZMQIOLoop, self).start()\n  File \"/Users/wanhua/anaconda/lib/python3.5/site-packages/tornado/ioloop.py\", line 888, in start\n    handler_func(fd_obj, events)\n  File \"/Users/wanhua/anaconda/lib/python3.5/site-packages/tornado/stack_context.py\", line 277, in null_wrapper\n    return fn(*args, **kwargs)\n  File \"/Users/wanhua/anaconda/lib/python3.5/site-packages/zmq/eventloop/zmqstream.py\", line 440, in _handle_events\n    self._handle_recv()\n  File \"/Users/wanhua/anaconda/lib/python3.5/site-packages/zmq/eventloop/zmqstream.py\", line 472, in _handle_recv\n    self._run_callback(callback, msg)\n  File \"/Users/wanhua/anaconda/lib/python3.5/site-packages/zmq/eventloop/zmqstream.py\", line 414, in _run_callback\n    callback(*args, **kwargs)\n  File \"/Users/wanhua/anaconda/lib/python3.5/site-packages/tornado/stack_context.py\", line 277, in null_wrapper\n    return fn(*args, **kwargs)\n  File \"/Users/wanhua/anaconda/lib/python3.5/site-packages/ipykernel/kernelbase.py\", line 283, in dispatcher\n    return self.dispatch_shell(stream, msg)\n  File \"/Users/wanhua/anaconda/lib/python3.5/site-packages/ipykernel/kernelbase.py\", line 235, in dispatch_shell\n    handler(stream, idents, msg)\n  File \"/Users/wanhua/anaconda/lib/python3.5/site-packages/ipykernel/kernelbase.py\", line 399, in execute_request\n    user_expressions, allow_stdin)\n  File \"/Users/wanhua/anaconda/lib/python3.5/site-packages/ipykernel/ipkernel.py\", line 196, in do_execute\n    res = shell.run_cell(code, store_history=store_history, silent=silent)\n  File \"/Users/wanhua/anaconda/lib/python3.5/site-packages/ipykernel/zmqshell.py\", line 533, in run_cell\n    return super(ZMQInteractiveShell, self).run_cell(*args, **kwargs)\n  File \"/Users/wanhua/anaconda/lib/python3.5/site-packages/IPython/core/interactiveshell.py\", line 2698, in run_cell\n    interactivity=interactivity, compiler=compiler, result=result)\n  File \"/Users/wanhua/anaconda/lib/python3.5/site-packages/IPython/core/interactiveshell.py\", line 2802, in run_ast_nodes\n    if self.run_code(code, result):\n  File \"/Users/wanhua/anaconda/lib/python3.5/site-packages/IPython/core/interactiveshell.py\", line 2862, in run_code\n    exec(code_obj, self.user_global_ns, self.user_ns)\n  File \"<ipython-input-109-f1ab2869e7bc>\", line 2, in <module>\n    label_holder = tf.placeholder(tf.int32, [batch_size])\n  File \"/Users/wanhua/anaconda/lib/python3.5/site-packages/tensorflow/python/ops/array_ops.py\", line 1599, in placeholder\n    input_depth = input_shape[3]\n  File \"/Users/wanhua/anaconda/lib/python3.5/site-packages/tensorflow/python/ops/gen_array_ops.py\", line 3091, in _placeholder\n  File \"/Users/wanhua/anaconda/lib/python3.5/site-packages/tensorflow/python/framework/op_def_library.py\", line 787, in _apply_op_helper\n  File \"/Users/wanhua/anaconda/lib/python3.5/site-packages/tensorflow/python/framework/ops.py\", line 2956, in create_op\n    t = tf.matmul(tensor, tensor)\n  File \"/Users/wanhua/anaconda/lib/python3.5/site-packages/tensorflow/python/framework/ops.py\", line 1470, in __init__\n    This decorator is only used when defining a new op type. For an op\n\nInvalidArgumentError (see above for traceback): You must feed a value for placeholder tensor 'Placeholder_9' with dtype int32 and shape [128]\n\t [[Node: Placeholder_9 = Placeholder[dtype=DT_INT32, shape=[128], _device=\"/job:localhost/replica:0/task:0/device:CPU:0\"]()]]\n"
     ]
    }
   ],
   "source": [
    "for step in range(max_steps):  \n",
    "    start_time = time.time()  \n",
    "    image_batch,label_batch = sess.run([images_train,labels_train])  \n",
    "    _, loss_value = sess.run([train_op, loss],feed_dict={image_holder: image_batch,   \n",
    "                                                         label_holder:label_batch})  \n",
    "    duration = time.time() - start_time  \n",
    "  \n",
    "    if step % 10 == 0:  \n",
    "        examples_per_sec = batch_size / duration  \n",
    "        sec_per_batch = float(duration)  \n",
    "      \n",
    "        format_str = ('step %d, loss = %.2f (%.1f examples/sec; %.3f sec/batch)')  \n",
    "        print(format_str % (step, loss_value, examples_per_sec, sec_per_batch)) "
   ]
  },
  {
   "cell_type": "code",
   "execution_count": null,
   "metadata": {
    "collapsed": true
   },
   "outputs": [],
   "source": [
    "num_examples = 10000  \n",
    "import math  \n",
    "num_iter = int(math.ceil(num_examples / batch_size))  \n",
    "true_count = 0    \n",
    "total_sample_count = num_iter * batch_size  \n",
    "step = 0  \n",
    "while step < num_iter:  \n",
    "    image_batch,label_batch = sess.run([images_test,labels_test])  \n",
    "    predictions = sess.run([top_k_op],feed_dict={image_holder: image_batch,  \n",
    "                                                 label_holder:label_batch})  \n",
    "    true_count += np.sum(predictions)  \n",
    "    step += 1  "
   ]
  },
  {
   "cell_type": "code",
   "execution_count": null,
   "metadata": {},
   "outputs": [],
   "source": [
    "precision = true_count / total_sample_count  \n",
    "print('precision @ 1 = %.3f' % precision)"
   ]
  },
  {
   "cell_type": "code",
   "execution_count": null,
   "metadata": {
    "collapsed": true
   },
   "outputs": [],
   "source": []
  }
 ],
 "metadata": {
  "kernelspec": {
   "display_name": "Python 3",
   "language": "python",
   "name": "python3"
  },
  "language_info": {
   "codemirror_mode": {
    "name": "ipython",
    "version": 3
   },
   "file_extension": ".py",
   "mimetype": "text/x-python",
   "name": "python",
   "nbconvert_exporter": "python",
   "pygments_lexer": "ipython3",
   "version": "3.5.4"
  }
 },
 "nbformat": 4,
 "nbformat_minor": 2
}
